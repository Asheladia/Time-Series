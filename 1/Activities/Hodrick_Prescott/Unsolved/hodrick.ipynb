{
 "cells": [
  {
   "cell_type": "code",
   "execution_count": null,
   "metadata": {},
   "outputs": [],
<<<<<<< HEAD:06-PyViz/1/Activities/02-Stu_Plotting_Visual_Takeover/Unsolved/Untitled.ipynb
=======
   "source": [
    "import pandas as pd\n",
    "from pathlib import Path\n",
    "%matplotlib inline\n",
    "\n",
    "df = pd.read_csv(Path('../Resources/IVV.csv'), parse_dates=True, index_col='date')"
   ]
  },
  {
   "cell_type": "code",
   "execution_count": null,
   "metadata": {},
   "outputs": [],
>>>>>>> 72be8c5dee4fa0817869a0b5623cf47611d12cf5:10-Time-Series/1/Activities/04-Ins_Hodrick_Prescott/Unsolved/hodrick.ipynb
   "source": []
  }
 ],
 "metadata": {
  "kernelspec": {
   "display_name": "Python 3",
   "language": "python",
   "name": "python3"
  },
  "language_info": {
   "codemirror_mode": {
    "name": "ipython",
    "version": 3
   },
   "file_extension": ".py",
   "mimetype": "text/x-python",
   "name": "python",
   "nbconvert_exporter": "python",
   "pygments_lexer": "ipython3",
   "version": "3.7.4"
  }
 },
 "nbformat": 4,
 "nbformat_minor": 4
}
