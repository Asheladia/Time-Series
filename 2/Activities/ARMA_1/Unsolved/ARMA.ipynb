{
 "cells": [
  {
   "cell_type": "markdown",
   "metadata": {},
<<<<<<< HEAD:05-APIs/2/Activities/02-Ins_Call_Env_Variables/Unsolved/.ipynb_checkpoints/env_variables-checkpoint.ipynb
   "source": [
    "### Instructor Demo: Environment Variables"
=======
   "outputs": [],
   "source": [
    "import pandas as pd\n",
    "from pathlib import Path\n",
    "csvpath = Path('../Resources/nasdaq.csv')\n",
    "df = pd.read_csv(csvpath, parse_dates=True, index_col='Date')\n",
    "%matplotlib inline"
>>>>>>> 72be8c5dee4fa0817869a0b5623cf47611d12cf5:10-Time-Series/2/Activities/03-Ins_ARMA/Unsolved/ARMA.ipynb
   ]
  },
  {
   "cell_type": "code",
   "execution_count": null,
   "metadata": {},
   "outputs": [],
   "source": [
<<<<<<< HEAD:05-APIs/2/Activities/02-Ins_Call_Env_Variables/Unsolved/.ipynb_checkpoints/env_variables-checkpoint.ipynb
    "# Import dotenv package for setting environment variables \n",
    "from dotenv import load_dotenv\n",
    "\n",
    "# Import os package\n",
    "import os"
=======
    "df.head()"
>>>>>>> 72be8c5dee4fa0817869a0b5623cf47611d12cf5:10-Time-Series/2/Activities/03-Ins_ARMA/Unsolved/ARMA.ipynb
   ]
  },
  {
   "cell_type": "code",
   "execution_count": null,
   "metadata": {},
   "outputs": [],
   "source": [
<<<<<<< HEAD:05-APIs/2/Activities/02-Ins_Call_Env_Variables/Unsolved/.ipynb_checkpoints/env_variables-checkpoint.ipynb
    "# Set environment variables from the .env in the local environment\n"
=======
    "# The series is non-stationary (Trends upwards)\n",
    "df.Close.plot()"
>>>>>>> 72be8c5dee4fa0817869a0b5623cf47611d12cf5:10-Time-Series/2/Activities/03-Ins_ARMA/Unsolved/ARMA.ipynb
   ]
  },
  {
   "cell_type": "code",
   "execution_count": null,
   "metadata": {},
   "outputs": [],
   "source": [
    "# Retrieve API key and store as Python variable\n",
    "\n",
    "type(api_key)"
   ]
  }
 ],
 "metadata": {
  "kernelspec": {
   "display_name": "dev",
   "language": "python",
   "name": "dev"
  },
  "language_info": {
   "codemirror_mode": {
    "name": "ipython",
    "version": 3
   },
   "file_extension": ".py",
   "mimetype": "text/x-python",
   "name": "python",
   "nbconvert_exporter": "python",
   "pygments_lexer": "ipython3",
   "version": "3.7.4"
  }
 },
 "nbformat": 4,
 "nbformat_minor": 4
}
