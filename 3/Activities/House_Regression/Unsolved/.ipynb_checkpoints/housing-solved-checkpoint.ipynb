{
 "cells": [
  {
   "cell_type": "markdown",
   "metadata": {},
   "source": [
    "# House Regression"
   ]
  },
  {
   "cell_type": "code",
   "execution_count": 14,
   "metadata": {},
   "outputs": [],
   "source": [
    "import os\n",
    "import pandas as pd\n",
    "import numpy as np\n",
    "from pathlib import Path\n",
    "from sklearn import linear_model\n",
    "from sklearn.linear_model import LinearRegression\n",
    "\n",
    "import matplotlib.pyplot as plt\n",
    "import seaborn as sns\n",
    "%matplotlib inline"
   ]
  },
  {
   "cell_type": "code",
   "execution_count": 15,
   "metadata": {},
   "outputs": [],
   "source": [
    "from statsmodels.graphics.tsaplots import plot_acf, plot_pacf"
   ]
  },
  {
   "cell_type": "markdown",
   "metadata": {},
   "source": [
    "### Read in Data"
   ]
  },
  {
   "cell_type": "code",
   "execution_count": 16,
   "metadata": {},
   "outputs": [
    {
     "data": {
      "text/html": [
       "<div>\n",
       "<style scoped>\n",
       "    .dataframe tbody tr th:only-of-type {\n",
       "        vertical-align: middle;\n",
       "    }\n",
       "\n",
       "    .dataframe tbody tr th {\n",
       "        vertical-align: top;\n",
       "    }\n",
       "\n",
       "    .dataframe thead th {\n",
       "        text-align: right;\n",
       "    }\n",
       "</style>\n",
       "<table border=\"1\" class=\"dataframe\">\n",
       "  <thead>\n",
       "    <tr style=\"text-align: right;\">\n",
       "      <th></th>\n",
       "      <th>income</th>\n",
       "      <th>house_age</th>\n",
       "      <th>bedrooms</th>\n",
       "      <th>Area Population</th>\n",
       "      <th>Price</th>\n",
       "      <th>Address</th>\n",
       "    </tr>\n",
       "    <tr>\n",
       "      <th>Avg. Area Number of Rooms</th>\n",
       "      <th></th>\n",
       "      <th></th>\n",
       "      <th></th>\n",
       "      <th></th>\n",
       "      <th></th>\n",
       "      <th></th>\n",
       "    </tr>\n",
       "  </thead>\n",
       "  <tbody>\n",
       "    <tr>\n",
       "      <th>3.236194</th>\n",
       "      <td>74277.719901</td>\n",
       "      <td>6.987280</td>\n",
       "      <td>3.42</td>\n",
       "      <td>50233.790310</td>\n",
       "      <td>1.365081e+06</td>\n",
       "      <td>9835 Kimberly Street Suite 318\\nMurphyview, ND...</td>\n",
       "    </tr>\n",
       "    <tr>\n",
       "      <th>3.950225</th>\n",
       "      <td>66961.664415</td>\n",
       "      <td>7.412989</td>\n",
       "      <td>2.31</td>\n",
       "      <td>33423.293292</td>\n",
       "      <td>1.128720e+06</td>\n",
       "      <td>456 Gray Extension Suite 249\\nJeremyville, MA ...</td>\n",
       "    </tr>\n",
       "    <tr>\n",
       "      <th>3.950973</th>\n",
       "      <td>60167.672607</td>\n",
       "      <td>4.590613</td>\n",
       "      <td>4.06</td>\n",
       "      <td>16811.303292</td>\n",
       "      <td>8.859177e+04</td>\n",
       "      <td>97009 Annette Vista\\nMichaelside, AZ 39867</td>\n",
       "    </tr>\n",
       "    <tr>\n",
       "      <th>3.969632</th>\n",
       "      <td>52868.323016</td>\n",
       "      <td>5.823226</td>\n",
       "      <td>4.38</td>\n",
       "      <td>41849.055084</td>\n",
       "      <td>6.237216e+05</td>\n",
       "      <td>3669 Nichols Crossroad Apt. 092\\nVegaburgh, VT...</td>\n",
       "    </tr>\n",
       "    <tr>\n",
       "      <th>4.027931</th>\n",
       "      <td>53562.403541</td>\n",
       "      <td>6.323328</td>\n",
       "      <td>3.13</td>\n",
       "      <td>17964.469901</td>\n",
       "      <td>2.662989e+05</td>\n",
       "      <td>441 Ryan Courts Suite 717\\nGonzalesport, NV 30350</td>\n",
       "    </tr>\n",
       "    <tr>\n",
       "      <th>4.049321</th>\n",
       "      <td>80284.995426</td>\n",
       "      <td>5.029475</td>\n",
       "      <td>2.20</td>\n",
       "      <td>23457.126397</td>\n",
       "      <td>6.379519e+05</td>\n",
       "      <td>9488 Wood Hill\\nNew Jesseton, IL 19753</td>\n",
       "    </tr>\n",
       "    <tr>\n",
       "      <th>4.087718</th>\n",
       "      <td>67977.384961</td>\n",
       "      <td>6.978763</td>\n",
       "      <td>4.26</td>\n",
       "      <td>24246.028058</td>\n",
       "      <td>8.238644e+05</td>\n",
       "      <td>2390 Jones Spur Apt. 187\\nLake Raymond, TX 27472</td>\n",
       "    </tr>\n",
       "    <tr>\n",
       "      <th>4.125278</th>\n",
       "      <td>62681.798091</td>\n",
       "      <td>7.341254</td>\n",
       "      <td>3.01</td>\n",
       "      <td>17454.455217</td>\n",
       "      <td>7.969107e+05</td>\n",
       "      <td>024 Singleton Forest Apt. 772\\nNorth Brandysta...</td>\n",
       "    </tr>\n",
       "    <tr>\n",
       "      <th>4.129733</th>\n",
       "      <td>56103.917002</td>\n",
       "      <td>4.725541</td>\n",
       "      <td>3.40</td>\n",
       "      <td>41330.608556</td>\n",
       "      <td>5.937662e+05</td>\n",
       "      <td>7291 Tammy Run\\nFarrellside, HI 31913-1175</td>\n",
       "    </tr>\n",
       "    <tr>\n",
       "      <th>4.147431</th>\n",
       "      <td>65718.301974</td>\n",
       "      <td>4.907385</td>\n",
       "      <td>4.14</td>\n",
       "      <td>54798.511451</td>\n",
       "      <td>9.957216e+05</td>\n",
       "      <td>410 Benjamin Row\\nWest Cody, TN 04841</td>\n",
       "    </tr>\n",
       "  </tbody>\n",
       "</table>\n",
       "</div>"
      ],
      "text/plain": [
       "                                 income  house_age  bedrooms  Area Population  \\\n",
       "Avg. Area Number of Rooms                                                       \n",
       "3.236194                   74277.719901   6.987280      3.42     50233.790310   \n",
       "3.950225                   66961.664415   7.412989      2.31     33423.293292   \n",
       "3.950973                   60167.672607   4.590613      4.06     16811.303292   \n",
       "3.969632                   52868.323016   5.823226      4.38     41849.055084   \n",
       "4.027931                   53562.403541   6.323328      3.13     17964.469901   \n",
       "4.049321                   80284.995426   5.029475      2.20     23457.126397   \n",
       "4.087718                   67977.384961   6.978763      4.26     24246.028058   \n",
       "4.125278                   62681.798091   7.341254      3.01     17454.455217   \n",
       "4.129733                   56103.917002   4.725541      3.40     41330.608556   \n",
       "4.147431                   65718.301974   4.907385      4.14     54798.511451   \n",
       "\n",
       "                                  Price  \\\n",
       "Avg. Area Number of Rooms                 \n",
       "3.236194                   1.365081e+06   \n",
       "3.950225                   1.128720e+06   \n",
       "3.950973                   8.859177e+04   \n",
       "3.969632                   6.237216e+05   \n",
       "4.027931                   2.662989e+05   \n",
       "4.049321                   6.379519e+05   \n",
       "4.087718                   8.238644e+05   \n",
       "4.125278                   7.969107e+05   \n",
       "4.129733                   5.937662e+05   \n",
       "4.147431                   9.957216e+05   \n",
       "\n",
       "                                                                     Address  \n",
       "Avg. Area Number of Rooms                                                     \n",
       "3.236194                   9835 Kimberly Street Suite 318\\nMurphyview, ND...  \n",
       "3.950225                   456 Gray Extension Suite 249\\nJeremyville, MA ...  \n",
       "3.950973                          97009 Annette Vista\\nMichaelside, AZ 39867  \n",
       "3.969632                   3669 Nichols Crossroad Apt. 092\\nVegaburgh, VT...  \n",
       "4.027931                   441 Ryan Courts Suite 717\\nGonzalesport, NV 30350  \n",
       "4.049321                              9488 Wood Hill\\nNew Jesseton, IL 19753  \n",
       "4.087718                    2390 Jones Spur Apt. 187\\nLake Raymond, TX 27472  \n",
       "4.125278                   024 Singleton Forest Apt. 772\\nNorth Brandysta...  \n",
       "4.129733                          7291 Tammy Run\\nFarrellside, HI 31913-1175  \n",
       "4.147431                               410 Benjamin Row\\nWest Cody, TN 04841  "
      ]
     },
     "execution_count": 16,
     "metadata": {},
     "output_type": "execute_result"
    }
   ],
   "source": [
    "df = (\n",
    "    pd.read_csv(Path(\"../Resources/USA_Housing.csv\"))\n",
    "    .set_index(\"Avg. Area Number of Rooms\").rename(columns={\"Avg. Area Number of Rooms\": \" avg_rooms\", \"Avg. Area Income\": \"income\",\"Avg. Area House Age\":\"house_age\",\"Avg. Area Number of Bedrooms\":\"bedrooms\"})\n",
    "    .sort_index()\n",
    ")\n",
    "df.head(10)"
   ]
  },
  {
   "cell_type": "code",
   "execution_count": 17,
   "metadata": {},
   "outputs": [
    {
     "name": "stdout",
     "output_type": "stream",
     "text": [
      "<class 'pandas.core.frame.DataFrame'>\n",
      "Float64Index: 5000 entries, 3.2361940234262048 to 10.759588335938624\n",
      "Data columns (total 6 columns):\n",
      "income             5000 non-null float64\n",
      "house_age          5000 non-null float64\n",
      "bedrooms           5000 non-null float64\n",
      "Area Population    5000 non-null float64\n",
      "Price              5000 non-null float64\n",
      "Address            5000 non-null object\n",
      "dtypes: float64(5), object(1)\n",
      "memory usage: 273.4+ KB\n"
     ]
    }
   ],
   "source": [
    "df.info()"
   ]
  },
  {
   "cell_type": "code",
   "execution_count": 18,
   "metadata": {},
   "outputs": [
    {
     "data": {
      "text/html": [
       "<div>\n",
       "<style scoped>\n",
       "    .dataframe tbody tr th:only-of-type {\n",
       "        vertical-align: middle;\n",
       "    }\n",
       "\n",
       "    .dataframe tbody tr th {\n",
       "        vertical-align: top;\n",
       "    }\n",
       "\n",
       "    .dataframe thead th {\n",
       "        text-align: right;\n",
       "    }\n",
       "</style>\n",
       "<table border=\"1\" class=\"dataframe\">\n",
       "  <thead>\n",
       "    <tr style=\"text-align: right;\">\n",
       "      <th></th>\n",
       "      <th>income</th>\n",
       "      <th>house_age</th>\n",
       "      <th>bedrooms</th>\n",
       "      <th>Area Population</th>\n",
       "      <th>Price</th>\n",
       "    </tr>\n",
       "  </thead>\n",
       "  <tbody>\n",
       "    <tr>\n",
       "      <th>count</th>\n",
       "      <td>5000.000000</td>\n",
       "      <td>5000.000000</td>\n",
       "      <td>5000.000000</td>\n",
       "      <td>5000.000000</td>\n",
       "      <td>5.000000e+03</td>\n",
       "    </tr>\n",
       "    <tr>\n",
       "      <th>mean</th>\n",
       "      <td>68583.108984</td>\n",
       "      <td>5.977222</td>\n",
       "      <td>3.981330</td>\n",
       "      <td>36163.516039</td>\n",
       "      <td>1.232073e+06</td>\n",
       "    </tr>\n",
       "    <tr>\n",
       "      <th>std</th>\n",
       "      <td>10657.991214</td>\n",
       "      <td>0.991456</td>\n",
       "      <td>1.234137</td>\n",
       "      <td>9925.650114</td>\n",
       "      <td>3.531176e+05</td>\n",
       "    </tr>\n",
       "    <tr>\n",
       "      <th>min</th>\n",
       "      <td>17796.631190</td>\n",
       "      <td>2.644304</td>\n",
       "      <td>2.000000</td>\n",
       "      <td>172.610686</td>\n",
       "      <td>1.593866e+04</td>\n",
       "    </tr>\n",
       "    <tr>\n",
       "      <th>25%</th>\n",
       "      <td>61480.562388</td>\n",
       "      <td>5.322283</td>\n",
       "      <td>3.140000</td>\n",
       "      <td>29403.928702</td>\n",
       "      <td>9.975771e+05</td>\n",
       "    </tr>\n",
       "    <tr>\n",
       "      <th>50%</th>\n",
       "      <td>68804.286404</td>\n",
       "      <td>5.970429</td>\n",
       "      <td>4.050000</td>\n",
       "      <td>36199.406689</td>\n",
       "      <td>1.232669e+06</td>\n",
       "    </tr>\n",
       "    <tr>\n",
       "      <th>75%</th>\n",
       "      <td>75783.338666</td>\n",
       "      <td>6.650808</td>\n",
       "      <td>4.490000</td>\n",
       "      <td>42861.290769</td>\n",
       "      <td>1.471210e+06</td>\n",
       "    </tr>\n",
       "    <tr>\n",
       "      <th>max</th>\n",
       "      <td>107701.748378</td>\n",
       "      <td>9.519088</td>\n",
       "      <td>6.500000</td>\n",
       "      <td>69621.713378</td>\n",
       "      <td>2.469066e+06</td>\n",
       "    </tr>\n",
       "  </tbody>\n",
       "</table>\n",
       "</div>"
      ],
      "text/plain": [
       "              income    house_age     bedrooms  Area Population         Price\n",
       "count    5000.000000  5000.000000  5000.000000      5000.000000  5.000000e+03\n",
       "mean    68583.108984     5.977222     3.981330     36163.516039  1.232073e+06\n",
       "std     10657.991214     0.991456     1.234137      9925.650114  3.531176e+05\n",
       "min     17796.631190     2.644304     2.000000       172.610686  1.593866e+04\n",
       "25%     61480.562388     5.322283     3.140000     29403.928702  9.975771e+05\n",
       "50%     68804.286404     5.970429     4.050000     36199.406689  1.232669e+06\n",
       "75%     75783.338666     6.650808     4.490000     42861.290769  1.471210e+06\n",
       "max    107701.748378     9.519088     6.500000     69621.713378  2.469066e+06"
      ]
     },
     "execution_count": 18,
     "metadata": {},
     "output_type": "execute_result"
    }
   ],
   "source": [
    "df.describe()"
   ]
  },
  {
   "cell_type": "markdown",
   "metadata": {},
   "source": [
    "### Plot the Data"
   ]
  },
  {
   "cell_type": "code",
   "execution_count": 19,
   "metadata": {},
   "outputs": [
    {
     "data": {
      "text/plain": [
       "<matplotlib.collections.PathCollection at 0x20403689508>"
      ]
     },
     "execution_count": 19,
     "metadata": {},
     "output_type": "execute_result"
    },
    {
     "data": {
      "image/png": "[encoded data removed]",
      "text/plain": [
       "<Figure size 432x288 with 1 Axes>"
      ]
     },
     "metadata": {
      "needs_background": "light"
     },
     "output_type": "display_data"
    }
   ],
   "source": [
    "# Create a scatter plot of the data\n",
    "plt.scatter(df.index, df.Price)        "
   ]
  },
  {
   "cell_type": "markdown",
   "metadata": {},
   "source": [
    "## Create a SciKitLearn Linear Regression Model"
   ]
  },
  {
   "cell_type": "code",
   "execution_count": 44,
   "metadata": {},
   "outputs": [
    {
     "data": {
      "text/plain": [
       "array([[3.23619402],\n",
       "       [3.95022469],\n",
       "       [3.95097265],\n",
       "       [3.96963165],\n",
       "       [4.02793072]])"
      ]
     },
     "execution_count": 44,
     "metadata": {},
     "output_type": "execute_result"
    }
   ],
   "source": [
    "#X = df.drop(columns=['Price', 'Address']).values\n",
    "X = df.index.values.reshape(-1, 1)\n",
    "X[:5]"
   ]
  },
  {
   "cell_type": "code",
   "execution_count": 45,
   "metadata": {},
   "outputs": [
    {
     "data": {
      "text/plain": [
       "(5000, 1)"
      ]
     },
     "execution_count": 45,
     "metadata": {},
     "output_type": "execute_result"
    }
   ],
   "source": [
    "X.shape"
   ]
  },
  {
   "cell_type": "code",
   "execution_count": 46,
   "metadata": {},
   "outputs": [],
   "source": [
    "y = df.Price"
   ]
  },
  {
   "cell_type": "code",
   "execution_count": 47,
   "metadata": {},
   "outputs": [
    {
     "data": {
      "text/plain": [
       "LinearRegression()"
      ]
     },
     "execution_count": 47,
     "metadata": {},
     "output_type": "execute_result"
    }
   ],
   "source": [
    "model = LinearRegression()\n",
    "model"
   ]
  },
  {
   "cell_type": "markdown",
   "metadata": {},
   "source": [
    "## Fit the Model to the Data"
   ]
  },
  {
   "cell_type": "code",
   "execution_count": 48,
   "metadata": {},
   "outputs": [
    {
     "data": {
      "text/plain": [
       "LinearRegression()"
      ]
     },
     "execution_count": 48,
     "metadata": {},
     "output_type": "execute_result"
    }
   ],
   "source": [
    "# Separate the data into the X and y componenents\n",
    "# In this case, y will be the `Price` and X will be the remainign columns\n",
    "model.fit(X, y)"
   ]
  },
  {
   "cell_type": "code",
   "execution_count": 49,
   "metadata": {},
   "outputs": [
    {
     "data": {
      "text/plain": [
       "408619.81940216525"
      ]
     },
     "execution_count": 49,
     "metadata": {},
     "output_type": "execute_result"
    }
   ],
   "source": [
    "model.intercept_"
   ]
  },
  {
   "cell_type": "code",
   "execution_count": 50,
   "metadata": {},
   "outputs": [
    {
     "data": {
      "text/plain": [
       "LinearRegression()"
      ]
     },
     "execution_count": 50,
     "metadata": {},
     "output_type": "execute_result"
    }
   ],
   "source": [
    "# Fit the model to the data\n",
    "model.fit(X, y)"
   ]
  },
  {
   "cell_type": "markdown",
   "metadata": {},
   "source": [
    "## Make Predictions"
   ]
  },
  {
   "cell_type": "code",
   "execution_count": 51,
   "metadata": {},
   "outputs": [
    {
     "data": {
      "text/plain": [
       "array([[ 3.23619402],\n",
       "       [ 3.95022469],\n",
       "       [ 3.95097265],\n",
       "       ...,\n",
       "       [10.21990198],\n",
       "       [10.28002242],\n",
       "       [10.75958834]])"
      ]
     },
     "execution_count": 51,
     "metadata": {},
     "output_type": "execute_result"
    }
   ],
   "source": [
    "# Make predictions using the X data\n",
    "predicted_y_values = model.predict(X)\n",
    "X"
   ]
  },
  {
   "cell_type": "code",
   "execution_count": 52,
   "metadata": {},
   "outputs": [
    {
     "data": {
      "text/plain": [
       "[<matplotlib.lines.Line2D at 0x20405fe5508>]"
      ]
     },
     "execution_count": 52,
     "metadata": {},
     "output_type": "execute_result"
    },
    {
     "data": {
      "image/png": "[encoded data removed]",
      "text/plain": [
       "<Figure size 432x288 with 1 Axes>"
      ]
     },
     "metadata": {
      "needs_background": "light"
     },
     "output_type": "display_data"
    }
   ],
   "source": [
    "# Plot X and y as a scatter plot\n",
    "# Plot X and the predictions as a red line plot\n",
    "plt.scatter(X, y)\n",
    "plt.plot(X, predicted_y_values, color='red')"
   ]
  },
  {
   "cell_type": "markdown",
   "metadata": {},
   "source": [
    "### Extract the slope, intercept, and calculate the R2 score of the model"
   ]
  },
  {
   "cell_type": "code",
   "execution_count": 29,
   "metadata": {},
   "outputs": [],
   "source": [
    "from sklearn.metrics import mean_squared_error, r2_score\n",
    "import numpy as np\n",
    "score = model.score(X, y, sample_weight=None)\n",
    "r2 = r2_score(y, predicted_y_values)\n",
    "mse = mean_squared_error(y, predicted_y_values)\n",
    "rmse = np.sqrt(mse)\n",
    "std = np.std(y)"
   ]
  },
  {
   "cell_type": "code",
   "execution_count": 30,
   "metadata": {},
   "outputs": [
    {
     "name": "stdout",
     "output_type": "stream",
     "text": [
      "The score is 0.11267062525400562.\n",
      "The r2 is 0.11267062525400562.\n",
      "The mean squared error is 110620797455.17807.\n",
      "The root mean squared error is 332597.0496790043.\n",
      "The standard deviation is 353082.3130526379.\n"
     ]
    }
   ],
   "source": [
    "# Print releveant metrics.\n",
    "print(f\"The score is {score}.\")\n",
    "print(f\"The r2 is {r2}.\")\n",
    "print(f\"The mean squared error is {mse}.\")\n",
    "print(f\"The root mean squared error is {rmse}.\")\n",
    "print(f\"The standard deviation is {std}.\")"
   ]
  },
  {
   "cell_type": "code",
   "execution_count": 34,
   "metadata": {},
   "outputs": [
    {
     "data": {
      "text/plain": [
       "110620797455.17807"
      ]
     },
     "execution_count": 34,
     "metadata": {},
     "output_type": "execute_result"
    }
   ],
   "source": [
    "# Show the slope of the model\n",
    "mse = mean_squared_error(y, predicted_y_values)\n",
    "mse"
   ]
  },
  {
   "cell_type": "code",
   "execution_count": 32,
   "metadata": {},
   "outputs": [
    {
     "data": {
      "text/plain": [
       "408619.81940216525"
      ]
     },
     "execution_count": 32,
     "metadata": {},
     "output_type": "execute_result"
    }
   ],
   "source": [
    "# Show the intercept of the model\n",
    "model.intercept_"
   ]
  },
  {
   "cell_type": "code",
   "execution_count": 33,
   "metadata": {},
   "outputs": [
    {
     "data": {
      "text/plain": [
       "0.11267062525400562"
      ]
     },
     "execution_count": 33,
     "metadata": {},
     "output_type": "execute_result"
    }
   ],
   "source": [
    "# Calculate the R2 Score\n",
    "r2 = r2_score(y, predicted_y_values)\n",
    "r2"
   ]
  },
  {
   "cell_type": "code",
   "execution_count": null,
   "metadata": {},
   "outputs": [],
   "source": []
  }
 ],
 "metadata": {
  "kernelspec": {
   "display_name": "Python 3",
   "language": "python",
   "name": "python3"
  },
  "language_info": {
   "codemirror_mode": {
    "name": "ipython",
    "version": 3
   },
   "file_extension": ".py",
   "mimetype": "text/x-python",
   "name": "python",
   "nbconvert_exporter": "python",
   "pygments_lexer": "ipython3",
   "version": "3.7.7"
  }
 },
 "nbformat": 4,
 "nbformat_minor": 4
}
